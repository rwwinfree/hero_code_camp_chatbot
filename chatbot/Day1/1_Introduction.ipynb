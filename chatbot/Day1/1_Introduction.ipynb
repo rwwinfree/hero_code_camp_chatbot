{
 "cells": [
  {
   "cell_type": "markdown",
   "metadata": {},
   "source": [
    "In this notebook we will provide an overview of chatbots! \n",
    "\n",
    "## Loading Data\n",
    "In this section we will import all the necessary packages and load the dataset(s) we plan to work on. We will use the \n",
    "<a href='https://github.com/WomenWhoCode/WWCodeDataScience/blob/master/Intro_to_MachineLearning/data/PlayGolf.csv'> Play Golf data </a>."
   ]
  },
  {
   "cell_type": "code",
   "execution_count": 14,
   "metadata": {
    "collapsed": true
   },
   "outputs": [],
   "source": [
    "import pandas as pd"
   ]
  }
 ],
 "metadata": {
  "kernelspec": {
   "display_name": "Python 3",
   "language": "python",
   "name": "python3"
  },
  "language_info": {
   "codemirror_mode": {
    "name": "ipython",
    "version": 3
   },
   "file_extension": ".py",
   "mimetype": "text/x-python",
   "name": "python",
   "nbconvert_exporter": "python",
   "pygments_lexer": "ipython3",
   "version": "3.6.8"
  }
 },
 "nbformat": 4,
 "nbformat_minor": 2
}
